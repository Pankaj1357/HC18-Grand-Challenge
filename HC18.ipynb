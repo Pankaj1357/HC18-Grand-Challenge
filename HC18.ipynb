{
  "nbformat": 4,
  "nbformat_minor": 0,
  "metadata": {
    "colab": {
      "name": "HC18.ipynb",
      "version": "0.3.2",
      "provenance": [],
      "collapsed_sections": [],
      "include_colab_link": true
    },
    "kernelspec": {
      "name": "python3",
      "display_name": "Python 3"
    },
    "accelerator": "GPU"
  },
  "cells": [
    {
      "cell_type": "markdown",
      "metadata": {
        "id": "view-in-github",
        "colab_type": "text"
      },
      "source": [
        "<a href=\"https://colab.research.google.com/github/Pankaj1357/HC18-Grand-Challenge/blob/master/HC18.ipynb\" target=\"_parent\"><img src=\"https://colab.research.google.com/assets/colab-badge.svg\" alt=\"Open In Colab\"/></a>"
      ]
    },
    {
      "cell_type": "code",
      "metadata": {
        "id": "M_XNJR0m9myR",
        "colab_type": "code",
        "outputId": "62973bbb-f479-4824-9af3-dba0faf915d4",
        "colab": {
          "base_uri": "https://localhost:8080/",
          "height": 124
        }
      },
      "source": [
        "# Run this cell to mount your Google Drive.\n",
        "from google.colab import drive\n",
        "drive.mount('/content/drive', force_remount = True)"
      ],
      "execution_count": 1,
      "outputs": [
        {
          "output_type": "stream",
          "text": [
            "Go to this URL in a browser: https://accounts.google.com/o/oauth2/auth?client_id=947318989803-6bn6qk8qdgf4n4g3pfee6491hc0brc4i.apps.googleusercontent.com&redirect_uri=urn%3Aietf%3Awg%3Aoauth%3A2.0%3Aoob&scope=email%20https%3A%2F%2Fwww.googleapis.com%2Fauth%2Fdocs.test%20https%3A%2F%2Fwww.googleapis.com%2Fauth%2Fdrive%20https%3A%2F%2Fwww.googleapis.com%2Fauth%2Fdrive.photos.readonly%20https%3A%2F%2Fwww.googleapis.com%2Fauth%2Fpeopleapi.readonly&response_type=code\n",
            "\n",
            "Enter your authorization code:\n",
            "··········\n",
            "Mounted at /content/drive\n"
          ],
          "name": "stdout"
        }
      ]
    },
    {
      "cell_type": "code",
      "metadata": {
        "id": "SQeWk-xPqW2Y",
        "colab_type": "code",
        "outputId": "991e6fe9-a805-4339-d09b-88ad07dcccb0",
        "colab": {
          "base_uri": "https://localhost:8080/",
          "height": 52
        }
      },
      "source": [
        "## this is to install and import pydrive utilities to help us download our data to colab from google drive\n",
        "!pip install -U -q PyDrive\n",
        "\n",
        "from pydrive.auth import GoogleAuth\n",
        "from pydrive.drive import GoogleDrive\n",
        "from google.colab import auth\n",
        "from oauth2client.client import GoogleCredentials"
      ],
      "execution_count": 2,
      "outputs": [
        {
          "output_type": "stream",
          "text": [
            "\u001b[?25l\r\u001b[K     |▎                               | 10kB 17.1MB/s eta 0:00:01\r\u001b[K     |▋                               | 20kB 3.5MB/s eta 0:00:01\r\u001b[K     |█                               | 30kB 5.0MB/s eta 0:00:01\r\u001b[K     |█▎                              | 40kB 3.1MB/s eta 0:00:01\r\u001b[K     |█▋                              | 51kB 3.8MB/s eta 0:00:01\r\u001b[K     |██                              | 61kB 4.5MB/s eta 0:00:01\r\u001b[K     |██▎                             | 71kB 5.2MB/s eta 0:00:01\r\u001b[K     |██▋                             | 81kB 5.9MB/s eta 0:00:01\r\u001b[K     |███                             | 92kB 6.5MB/s eta 0:00:01\r\u001b[K     |███▎                            | 102kB 5.0MB/s eta 0:00:01\r\u001b[K     |███▋                            | 112kB 5.0MB/s eta 0:00:01\r\u001b[K     |████                            | 122kB 5.0MB/s eta 0:00:01\r\u001b[K     |████▎                           | 133kB 5.0MB/s eta 0:00:01\r\u001b[K     |████▋                           | 143kB 5.0MB/s eta 0:00:01\r\u001b[K     |█████                           | 153kB 5.0MB/s eta 0:00:01\r\u001b[K     |█████▎                          | 163kB 5.0MB/s eta 0:00:01\r\u001b[K     |█████▋                          | 174kB 5.0MB/s eta 0:00:01\r\u001b[K     |██████                          | 184kB 5.0MB/s eta 0:00:01\r\u001b[K     |██████▎                         | 194kB 5.0MB/s eta 0:00:01\r\u001b[K     |██████▋                         | 204kB 5.0MB/s eta 0:00:01\r\u001b[K     |███████                         | 215kB 5.0MB/s eta 0:00:01\r\u001b[K     |███████▎                        | 225kB 5.0MB/s eta 0:00:01\r\u001b[K     |███████▋                        | 235kB 5.0MB/s eta 0:00:01\r\u001b[K     |████████                        | 245kB 5.0MB/s eta 0:00:01\r\u001b[K     |████████▎                       | 256kB 5.0MB/s eta 0:00:01\r\u001b[K     |████████▋                       | 266kB 5.0MB/s eta 0:00:01\r\u001b[K     |█████████                       | 276kB 5.0MB/s eta 0:00:01\r\u001b[K     |█████████▎                      | 286kB 5.0MB/s eta 0:00:01\r\u001b[K     |█████████▋                      | 296kB 5.0MB/s eta 0:00:01\r\u001b[K     |██████████                      | 307kB 5.0MB/s eta 0:00:01\r\u001b[K     |██████████▎                     | 317kB 5.0MB/s eta 0:00:01\r\u001b[K     |██████████▋                     | 327kB 5.0MB/s eta 0:00:01\r\u001b[K     |███████████                     | 337kB 5.0MB/s eta 0:00:01\r\u001b[K     |███████████▎                    | 348kB 5.0MB/s eta 0:00:01\r\u001b[K     |███████████▋                    | 358kB 5.0MB/s eta 0:00:01\r\u001b[K     |████████████                    | 368kB 5.0MB/s eta 0:00:01\r\u001b[K     |████████████▎                   | 378kB 5.0MB/s eta 0:00:01\r\u001b[K     |████████████▋                   | 389kB 5.0MB/s eta 0:00:01\r\u001b[K     |█████████████                   | 399kB 5.0MB/s eta 0:00:01\r\u001b[K     |█████████████▎                  | 409kB 5.0MB/s eta 0:00:01\r\u001b[K     |█████████████▋                  | 419kB 5.0MB/s eta 0:00:01\r\u001b[K     |██████████████                  | 430kB 5.0MB/s eta 0:00:01\r\u001b[K     |██████████████▎                 | 440kB 5.0MB/s eta 0:00:01\r\u001b[K     |██████████████▋                 | 450kB 5.0MB/s eta 0:00:01\r\u001b[K     |███████████████                 | 460kB 5.0MB/s eta 0:00:01\r\u001b[K     |███████████████▎                | 471kB 5.0MB/s eta 0:00:01\r\u001b[K     |███████████████▋                | 481kB 5.0MB/s eta 0:00:01\r\u001b[K     |████████████████                | 491kB 5.0MB/s eta 0:00:01\r\u001b[K     |████████████████▎               | 501kB 5.0MB/s eta 0:00:01\r\u001b[K     |████████████████▋               | 512kB 5.0MB/s eta 0:00:01\r\u001b[K     |█████████████████               | 522kB 5.0MB/s eta 0:00:01\r\u001b[K     |█████████████████▎              | 532kB 5.0MB/s eta 0:00:01\r\u001b[K     |█████████████████▋              | 542kB 5.0MB/s eta 0:00:01\r\u001b[K     |██████████████████              | 552kB 5.0MB/s eta 0:00:01\r\u001b[K     |██████████████████▎             | 563kB 5.0MB/s eta 0:00:01\r\u001b[K     |██████████████████▋             | 573kB 5.0MB/s eta 0:00:01\r\u001b[K     |███████████████████             | 583kB 5.0MB/s eta 0:00:01\r\u001b[K     |███████████████████▎            | 593kB 5.0MB/s eta 0:00:01\r\u001b[K     |███████████████████▋            | 604kB 5.0MB/s eta 0:00:01\r\u001b[K     |████████████████████            | 614kB 5.0MB/s eta 0:00:01\r\u001b[K     |████████████████████▎           | 624kB 5.0MB/s eta 0:00:01\r\u001b[K     |████████████████████▋           | 634kB 5.0MB/s eta 0:00:01\r\u001b[K     |█████████████████████           | 645kB 5.0MB/s eta 0:00:01\r\u001b[K     |█████████████████████▎          | 655kB 5.0MB/s eta 0:00:01\r\u001b[K     |█████████████████████▋          | 665kB 5.0MB/s eta 0:00:01\r\u001b[K     |██████████████████████          | 675kB 5.0MB/s eta 0:00:01\r\u001b[K     |██████████████████████▎         | 686kB 5.0MB/s eta 0:00:01\r\u001b[K     |██████████████████████▋         | 696kB 5.0MB/s eta 0:00:01\r\u001b[K     |███████████████████████         | 706kB 5.0MB/s eta 0:00:01\r\u001b[K     |███████████████████████▎        | 716kB 5.0MB/s eta 0:00:01\r\u001b[K     |███████████████████████▋        | 727kB 5.0MB/s eta 0:00:01\r\u001b[K     |████████████████████████        | 737kB 5.0MB/s eta 0:00:01\r\u001b[K     |████████████████████████▎       | 747kB 5.0MB/s eta 0:00:01\r\u001b[K     |████████████████████████▋       | 757kB 5.0MB/s eta 0:00:01\r\u001b[K     |████████████████████████▉       | 768kB 5.0MB/s eta 0:00:01\r\u001b[K     |█████████████████████████▏      | 778kB 5.0MB/s eta 0:00:01\r\u001b[K     |█████████████████████████▌      | 788kB 5.0MB/s eta 0:00:01\r\u001b[K     |█████████████████████████▉      | 798kB 5.0MB/s eta 0:00:01\r\u001b[K     |██████████████████████████▏     | 808kB 5.0MB/s eta 0:00:01\r\u001b[K     |██████████████████████████▌     | 819kB 5.0MB/s eta 0:00:01\r\u001b[K     |██████████████████████████▉     | 829kB 5.0MB/s eta 0:00:01\r\u001b[K     |███████████████████████████▏    | 839kB 5.0MB/s eta 0:00:01\r\u001b[K     |███████████████████████████▌    | 849kB 5.0MB/s eta 0:00:01\r\u001b[K     |███████████████████████████▉    | 860kB 5.0MB/s eta 0:00:01\r\u001b[K     |████████████████████████████▏   | 870kB 5.0MB/s eta 0:00:01\r\u001b[K     |████████████████████████████▌   | 880kB 5.0MB/s eta 0:00:01\r\u001b[K     |████████████████████████████▉   | 890kB 5.0MB/s eta 0:00:01\r\u001b[K     |█████████████████████████████▏  | 901kB 5.0MB/s eta 0:00:01\r\u001b[K     |█████████████████████████████▌  | 911kB 5.0MB/s eta 0:00:01\r\u001b[K     |█████████████████████████████▉  | 921kB 5.0MB/s eta 0:00:01\r\u001b[K     |██████████████████████████████▏ | 931kB 5.0MB/s eta 0:00:01\r\u001b[K     |██████████████████████████████▌ | 942kB 5.0MB/s eta 0:00:01\r\u001b[K     |██████████████████████████████▉ | 952kB 5.0MB/s eta 0:00:01\r\u001b[K     |███████████████████████████████▏| 962kB 5.0MB/s eta 0:00:01\r\u001b[K     |███████████████████████████████▌| 972kB 5.0MB/s eta 0:00:01\r\u001b[K     |███████████████████████████████▉| 983kB 5.0MB/s eta 0:00:01\r\u001b[K     |████████████████████████████████| 993kB 5.0MB/s \n",
            "\u001b[?25h  Building wheel for PyDrive (setup.py) ... \u001b[?25l\u001b[?25hdone\n"
          ],
          "name": "stdout"
        }
      ]
    },
    {
      "cell_type": "code",
      "metadata": {
        "id": "kz6kqiau8Ic_",
        "colab_type": "code",
        "colab": {}
      },
      "source": [
        "# this is form authentication of user\n",
        "auth.authenticate_user()\n",
        "gauth = GoogleAuth()\n",
        "gauth.credentials = GoogleCredentials.get_application_default()\n",
        "drive = GoogleDrive(gauth)"
      ],
      "execution_count": 0,
      "outputs": []
    },
    {
      "cell_type": "code",
      "metadata": {
        "id": "_bcgvwrt3zDd",
        "colab_type": "code",
        "outputId": "de53a433-93c5-4491-e37a-660f5cab1986",
        "colab": {
          "base_uri": "https://localhost:8080/",
          "height": 52
        }
      },
      "source": [
        "## we are downloading file from Google drive to our colab environment\n",
        "## this is just a empty folder to put our segmentation mask results\n",
        "\n",
        "file_id = '1EaWui3uYpgfa1mEReU8jtO9WOG4U3TEw'          ## at the end of google drive shareble link\n",
        "downloaded_0 = drive.CreateFile({'id': file_id})\n",
        "downloaded_0.GetContentFile('segmented.zip')\n",
        "!unzip segmented.zip # unzipping the zipped file"
      ],
      "execution_count": 4,
      "outputs": [
        {
          "output_type": "stream",
          "text": [
            "Archive:  segmented.zip\n",
            "   creating: segmented/\n"
          ],
          "name": "stdout"
        }
      ]
    },
    {
      "cell_type": "code",
      "metadata": {
        "id": "CPIGJrKA8NTV",
        "colab_type": "code",
        "outputId": "d04214c7-2b0d-415d-87ba-14a3d71d23aa",
        "colab": {
          "base_uri": "https://localhost:8080/",
          "height": 34
        }
      },
      "source": [
        "# # out dataset downloaded\n",
        "# # this folder have train and test data\n",
        "\n",
        "file_id = '1yEnyA83FwGQtrW3exYoldp8elV2d2QtA'          ## at the end of google drive shareble link\n",
        "downloaded_1 = drive.CreateFile({'id': file_id})\n",
        "downloaded_1.GetContentFile('HC18-20190711T100842Z-001.zip')\n",
        "!unzip HC18-20190711T100842Z-001.zip\n",
        "print('Dataset Loaded')"
      ],
      "execution_count": 6,
      "outputs": [
        {
          "output_type": "stream",
          "text": [
            "Dataset Loaded\n"
          ],
          "name": "stdout"
        }
      ]
    },
    {
      "cell_type": "code",
      "metadata": {
        "id": "TV46Qhyl7VG7",
        "colab_type": "code",
        "colab": {}
      },
      "source": [
        "import cv2\n",
        "import os\n",
        "import matplotlib.pyplot as plt\n",
        "import pandas as pd"
      ],
      "execution_count": 0,
      "outputs": []
    },
    {
      "cell_type": "markdown",
      "metadata": {
        "id": "Dy5DKne7MK-b",
        "colab_type": "text"
      },
      "source": [
        "# **Mask Generation**\n",
        "Done only once and replaced that  annotation with masks permanently\n",
        "Did not changed the annotation file name though"
      ]
    },
    {
      "cell_type": "markdown",
      "metadata": {
        "id": "fVabpqscIjJP",
        "colab_type": "text"
      },
      "source": [
        "## **Warning!!!**\n",
        "Do not run below cells as task is already completed"
      ]
    },
    {
      "cell_type": "code",
      "metadata": {
        "id": "l2QgdZiQMDSR",
        "colab_type": "code",
        "outputId": "e0244c3e-12af-4095-ad18-86c1185199da",
        "colab": {
          "base_uri": "https://localhost:8080/",
          "height": 206
        }
      },
      "source": [
        "train_pixel_file = pd.read_csv('/content/HC18/training_set_pixel_size_and_HC.csv')\n",
        "train_pixel_file.head()\n",
        "# This Dataframe will be used to extract image names hence by doing image_name + '_Annotation' we will get annotation names"
      ],
      "execution_count": 0,
      "outputs": [
        {
          "output_type": "execute_result",
          "data": {
            "text/html": [
              "<div>\n",
              "<style scoped>\n",
              "    .dataframe tbody tr th:only-of-type {\n",
              "        vertical-align: middle;\n",
              "    }\n",
              "\n",
              "    .dataframe tbody tr th {\n",
              "        vertical-align: top;\n",
              "    }\n",
              "\n",
              "    .dataframe thead th {\n",
              "        text-align: right;\n",
              "    }\n",
              "</style>\n",
              "<table border=\"1\" class=\"dataframe\">\n",
              "  <thead>\n",
              "    <tr style=\"text-align: right;\">\n",
              "      <th></th>\n",
              "      <th>filename</th>\n",
              "      <th>pixel size(mm)</th>\n",
              "      <th>head circumference (mm)</th>\n",
              "    </tr>\n",
              "  </thead>\n",
              "  <tbody>\n",
              "    <tr>\n",
              "      <th>0</th>\n",
              "      <td>000_HC.png</td>\n",
              "      <td>0.069136</td>\n",
              "      <td>44.30</td>\n",
              "    </tr>\n",
              "    <tr>\n",
              "      <th>1</th>\n",
              "      <td>001_HC.png</td>\n",
              "      <td>0.089659</td>\n",
              "      <td>56.81</td>\n",
              "    </tr>\n",
              "    <tr>\n",
              "      <th>2</th>\n",
              "      <td>002_HC.png</td>\n",
              "      <td>0.062033</td>\n",
              "      <td>68.75</td>\n",
              "    </tr>\n",
              "    <tr>\n",
              "      <th>3</th>\n",
              "      <td>003_HC.png</td>\n",
              "      <td>0.091291</td>\n",
              "      <td>69.00</td>\n",
              "    </tr>\n",
              "    <tr>\n",
              "      <th>4</th>\n",
              "      <td>004_HC.png</td>\n",
              "      <td>0.061240</td>\n",
              "      <td>59.81</td>\n",
              "    </tr>\n",
              "  </tbody>\n",
              "</table>\n",
              "</div>"
            ],
            "text/plain": [
              "     filename  pixel size(mm)  head circumference (mm)\n",
              "0  000_HC.png        0.069136                    44.30\n",
              "1  001_HC.png        0.089659                    56.81\n",
              "2  002_HC.png        0.062033                    68.75\n",
              "3  003_HC.png        0.091291                    69.00\n",
              "4  004_HC.png        0.061240                    59.81"
            ]
          },
          "metadata": {
            "tags": []
          },
          "execution_count": 51
        }
      ]
    },
    {
      "cell_type": "code",
      "metadata": {
        "id": "pwc0njSy7wLO",
        "colab_type": "code",
        "colab": {}
      },
      "source": [
        "# This function takes annotation and spits out corresponding mask\n",
        "def masking(image):\n",
        "    imgray = cv2.cvtColor(image, cv2.COLOR_BGR2GRAY)\n",
        "    ret, thresh = cv2.threshold(imgray, 127, 255, 0)\n",
        "    useless0,contours, useless1 = cv2.findContours(thresh, cv2.RETR_TREE, cv2.CHAIN_APPROX_SIMPLE)\n",
        "    ellipse = cv2.fitEllipse(contours[0])\n",
        "    return cv2.ellipse(image, ellipse, (255,255,255), -1)"
      ],
      "execution_count": 0,
      "outputs": []
    },
    {
      "cell_type": "code",
      "metadata": {
        "id": "MaWoHo2uXKrr",
        "colab_type": "code",
        "outputId": "fb2ca4ec-f69c-4dc2-9dac-640ac24a0256",
        "colab": {
          "base_uri": "https://localhost:8080/",
          "height": 417
        }
      },
      "source": [
        "# to check if our masking function is working correctly\n",
        "fig = plt.figure(figsize = (30,7))\n",
        "for index in range(7):\n",
        "  file_path = os.path.join('/content/HC18/training_set', train_pixel_file.iloc[index, 0].replace('.png','_Annotation.png'))\n",
        "  #print(file_path)\n",
        "  ax = fig.add_subplot(2, 7, index+1)             ## annoted plot\n",
        "  plt.imshow(cv2.imread(file_path))\n",
        "    \n",
        "  ax = fig.add_subplot(2, 7, index+8)\n",
        "  plt.imshow(masking(cv2.imread(file_path)))        ## mask plot"
      ],
      "execution_count": 0,
      "outputs": [
        {
          "output_type": "display_data",
          "data": {
            "image/png": "[encoded data removed]",
            "text/plain": [
              "<Figure size 2160x504 with 14 Axes>"
            ]
          },
          "metadata": {
            "tags": []
          }
        }
      ]
    },
    {
      "cell_type": "code",
      "metadata": {
        "id": "KDfCwlA2-gEm",
        "colab_type": "code",
        "colab": {}
      },
      "source": [
        "# Here we loop through training set and  take annotations one by one and replace them with corresponding masks\n",
        "for index in range(len(train_pixel_file)):\n",
        "    file_path = os.path.join('/content/drive/My Drive/HC18/training_set', train_pixel_file.iloc[index, 0].replace('.png','_Annotation.png'))\n",
        "    image = cv2.imread(file_path)\n",
        "    mask = masking(image)\n",
        "    cv2.imwrite(file_path, mask)"
      ],
      "execution_count": 0,
      "outputs": []
    },
    {
      "cell_type": "markdown",
      "metadata": {
        "id": "KADFsdwapVbI",
        "colab_type": "text"
      },
      "source": [
        "## **Warning!!!**\n",
        "**Done with mask generation. Don't run above cells ever again**"
      ]
    },
    {
      "cell_type": "markdown",
      "metadata": {
        "id": "JGi8nx7FR5tC",
        "colab_type": "text"
      },
      "source": [
        "### **Do all the imports in below cell**"
      ]
    },
    {
      "cell_type": "code",
      "metadata": {
        "id": "R16j18u8R5Os",
        "colab_type": "code",
        "colab": {}
      },
      "source": [
        "import numpy as np\n",
        "import pandas as pd\n",
        "import matplotlib.pyplot as plt\n",
        "\n",
        "from sklearn.model_selection import train_test_split\n",
        "\n",
        "from skimage import io, color\n",
        "from PIL import Image\n",
        "import cv2\n",
        "\n",
        "import os\n",
        "import random\n",
        "\n",
        "import torch\n",
        "from torch.utils.data  import Dataset, DataLoader\n",
        "from torchvision import transforms\n",
        "import torchvision.transforms.functional as TF\n",
        "import torch.nn as nn\n",
        "import torch.nn.functional as F\n",
        "import torchvision"
      ],
      "execution_count": 0,
      "outputs": []
    },
    {
      "cell_type": "code",
      "metadata": {
        "id": "qkDkIwzy6aso",
        "colab_type": "code",
        "colab": {}
      },
      "source": [
        "validation_set_size = 0.20            # fraction of dataset used for validation which will be splited randomly"
      ],
      "execution_count": 0,
      "outputs": []
    },
    {
      "cell_type": "code",
      "metadata": {
        "id": "4YRb9PbVX8fK",
        "colab_type": "code",
        "colab": {}
      },
      "source": [
        "# our dataset class\n",
        "class HC18(Dataset):\n",
        "  #\"\"\" train and validation dataset class\"\"\"\n",
        "    def __init__(self, root_dir, train = True, transformX = None, transformY = None):\n",
        "        self.pixel_file = pd.read_csv(os.path.join(root_dir, 'training_set_pixel_size_and_HC.csv'))\n",
        "        self.root_dir = root_dir\n",
        "        self.transformX = transformX\n",
        "        self.transformY = transformY\n",
        "        self.train = train\n",
        "        \n",
        "        # lets split the dataset in train and validation\n",
        "        self.train_data, self.validation_data = train_test_split(self.pixel_file, test_size = validation_set_size, random_state = 5)\n",
        "        \n",
        "    def __len__(self):\n",
        "        \n",
        "        if self.train:\n",
        "          length = len(self.train_data)\n",
        "        else:\n",
        "          length = len(self.validation_data)\n",
        "        return length\n",
        "    \n",
        "    def __getitem__(self, index):\n",
        "      \n",
        "        if self.train:\n",
        "          imx_name = os.path.join(self.root_dir, 'training_set', self.train_data.iloc[index, 0])\n",
        "          imy_name = os.path.join(self.root_dir, 'training_set',self.train_data.iloc[index, 0].replace('.png','_Annotation.png'))\n",
        "\n",
        "        else:\n",
        "          imx_name = os.path.join(self.root_dir, 'training_set', self.validation_data.iloc[index, 0])\n",
        "          imy_name = os.path.join(self.root_dir, 'training_set',self.validation_data.iloc[index, 0].replace('.png','_Annotation.png'))\n",
        "        \n",
        "        \n",
        "        imx = Image.open(imx_name)\n",
        "        imy = Image.open(imy_name).convert('L')\n",
        "        \n",
        "        ## tried some data augmentation techniques\n",
        "        if self.train:\n",
        "          # Random horizontal flipping\n",
        "          if random.random() > 0.5:\n",
        "              imx = TF.hflip(imx)\n",
        "              imy = TF.hflip(imy)\n",
        "\n",
        "          # Random vertical flipping\n",
        "          if random.random() > 0.5:\n",
        "              imx = TF.vflip(imx)\n",
        "              imy = TF.vflip(imy)\n",
        "\n",
        "\n",
        "          # Random rotation\n",
        "          if random.random() > 0.8:\n",
        "            angle = random.choice([-30, -90, -60, -45 -15, 0, 15, 30, 45, 60, 90])\n",
        "            imx = TF.rotate(imx, angle)\n",
        "            imy = TF.rotate(imy, angle)\n",
        "        \n",
        "        \n",
        "        \n",
        "        \n",
        "        \n",
        "        \n",
        "        if self.transformX :\n",
        "            imx = self.transformX(imx)\n",
        "            imy = self.transformY(imy)\n",
        "        \n",
        "        sample = {'image': imx, 'annotation': imy}\n",
        "        return sample"
      ],
      "execution_count": 0,
      "outputs": []
    },
    {
      "cell_type": "code",
      "metadata": {
        "id": "F49rRE8oUHKW",
        "colab_type": "code",
        "colab": {}
      },
      "source": [
        "# our datasets\n",
        "tx_X = transforms.Compose([ transforms.Resize((572, 572)),\n",
        "                              transforms.ToTensor(),\n",
        "                              transforms.Normalize((0.5,), (0.5,))\n",
        "                              ])\n",
        "tx_Y = transforms.Compose([ transforms.Resize((572, 572)),\n",
        "                              transforms.ToTensor(),  ################ no need to normalize the maskk\n",
        "                             # transforms.Normalize((0.5,), (0.5,))\n",
        "                              ])\n",
        "train_data = HC18('/content/HC18', train = True, transformX = tx_X, transformY = tx_Y)\n",
        "validation_data = HC18('/content/HC18', train = False, transformX = tx_X, transformY = tx_Y )"
      ],
      "execution_count": 0,
      "outputs": []
    },
    {
      "cell_type": "code",
      "metadata": {
        "id": "O4dVTfibUBpJ",
        "colab_type": "code",
        "colab": {}
      },
      "source": [
        "# our dataloaders\n",
        "train_loader = DataLoader(dataset = train_data, batch_size = 2, shuffle = True, num_workers = 2 )\n",
        "validation_loader = DataLoader(dataset = validation_data, batch_size = 2, shuffle = True, num_workers = 2)"
      ],
      "execution_count": 0,
      "outputs": []
    },
    {
      "cell_type": "code",
      "metadata": {
        "id": "byO6dBp-UirU",
        "colab_type": "code",
        "colab": {}
      },
      "source": [
        "# this function will return numpy array from the transformed tensors which were\n",
        "# obtained from our train_loader. Just to plot them and see if they are intact :) ha ha\n",
        "def im_converterX(tensor):\n",
        "    image = tensor.cpu().clone().detach().numpy() # make copy of tensor and converting it to numpy as we will need original later\n",
        "    image = image.transpose(1,2,0) # swapping axes making (1, 28, 28) image to a (28, 28, 1)\n",
        " # print(image.shape)\n",
        "    image = image * np.array((0.5, 0.5, 0.5)) + np.array((0.5, 0.5, 0.5)) # unnormalizing the image # this also outputs (28, 28, 3) which seems important for plt.imshow\n",
        "    image = image.clip(0, 1) # to make sure final values are in range 0 to 1 as .ToTensor outputed\n",
        "    return image"
      ],
      "execution_count": 0,
      "outputs": []
    },
    {
      "cell_type": "code",
      "metadata": {
        "id": "HOAYYoUsIcZm",
        "colab_type": "code",
        "colab": {}
      },
      "source": [
        "# this function will return numpy array from the transformed tensors which were\n",
        "# obtained from our train_loader. Just to plot them and see if they are intact :) ha ha\n",
        "def im_converterY(tensor):\n",
        "    image = tensor.cpu().clone().detach().numpy() # make copy of tensor and converting it to numpy as we will need original later\n",
        "    image = image.transpose(1,2,0) # swapping axes making (1, 28, 28) image to a (28, 28, 1)\n",
        " # print(image.shape)\n",
        "    image = image * np.array((1, 1, 1)) # unnormalizing the image  not needed# this also outputs (28, 28, 3) which seems important for plt.imshow\n",
        "    image = image.clip(0, 1) # to make sure final values are in range 0 to 1 as .ToTensor outputed\n",
        "    return image"
      ],
      "execution_count": 0,
      "outputs": []
    },
    {
      "cell_type": "code",
      "metadata": {
        "id": "_AqSIQugXi5v",
        "colab_type": "code",
        "outputId": "5b548474-943b-4a7a-eeb4-62ba89762663",
        "colab": {
          "base_uri": "https://localhost:8080/",
          "height": 395
        }
      },
      "source": [
        "## Here we loop through our train_loader and see the images\n",
        "## Looks good\n",
        "fig = plt.figure(figsize = (15,6))\n",
        "for ith_batch, sample_batched in enumerate(train_loader):\n",
        "    print(ith_batch, sample_batched['image'].size(), sample_batched['annotation'].size())\n",
        "    \n",
        "    for index in range(2):\n",
        "        ax = fig.add_subplot(2, 2 , index + 1)  # subplot index starts from 1\n",
        "        plt.imshow(im_converterX(sample_batched['image'][index]))\n",
        "        ax = fig.add_subplot(2, 2, index + 3)\n",
        "        plt.imshow(im_converterY(sample_batched['annotation'][index]))\n",
        "    break"
      ],
      "execution_count": 16,
      "outputs": [
        {
          "output_type": "stream",
          "text": [
            "0 torch.Size([2, 1, 572, 572]) torch.Size([2, 1, 572, 572])\n"
          ],
          "name": "stdout"
        },
        {
          "output_type": "display_data",
          "data": {
            "image/png": "[encoded data removed]",
            "text/plain": [
              "<Figure size 1080x432 with 4 Axes>"
            ]
          },
          "metadata": {
            "tags": []
          }
        }
      ]
    },
    {
      "cell_type": "code",
      "metadata": {
        "id": "VmF1oc0yyp-O",
        "colab_type": "code",
        "colab": {}
      },
      "source": [
        "class double_conv(nn.Module):\n",
        "    '''(conv => BN => ReLU) * 2'''\n",
        "\n",
        "    def __init__(self, in_ch, out_ch):\n",
        "        super(double_conv, self).__init__()\n",
        "        self.conv = nn.Sequential(\n",
        "            nn.Conv2d(in_ch, out_ch, 3, padding=1),\n",
        "            nn.BatchNorm2d(out_ch),\n",
        "            #nn.Dropout2d(0.7),\n",
        "            nn.ReLU(inplace=True),\n",
        "            nn.Conv2d(out_ch, out_ch, 3, padding=1),\n",
        "            nn.BatchNorm2d(out_ch),\n",
        "            #nn.Dropout2d(0.77),\n",
        "            nn.ReLU(inplace=True)\n",
        "        )\n",
        "\n",
        "    def forward(self, x):\n",
        "        x = self.conv(x)\n",
        "        return x\n",
        "\n",
        "\n",
        "class inconv(nn.Module):\n",
        "    def __init__(self, in_ch, out_ch):\n",
        "        super(inconv, self).__init__()\n",
        "        self.conv = double_conv(in_ch, out_ch)\n",
        "\n",
        "    def forward(self, x):\n",
        "        x = self.conv(x)\n",
        "        return x\n",
        "\n",
        "\n",
        "class down(nn.Module):\n",
        "    def __init__(self, in_ch, out_ch):\n",
        "        super(down, self).__init__()\n",
        "        self.mpconv = nn.Sequential(\n",
        "            nn.MaxPool2d(2),\n",
        "            double_conv(in_ch, out_ch)\n",
        "        )\n",
        "\n",
        "    def forward(self, x):\n",
        "        x = self.mpconv(x)\n",
        "        return x\n",
        "\n",
        "\n",
        "class up(nn.Module):\n",
        "    def __init__(self, in_ch, out_ch, bilinear=True):\n",
        "        super(up, self).__init__()\n",
        "\n",
        "        if bilinear: #upsampling will not be learnable\n",
        "            self.up = nn.Upsample(\n",
        "                scale_factor=2, mode='bilinear', align_corners=True)\n",
        "        else:  # it will be learnable here\n",
        "            self.up = nn.ConvTranspose2d(in_ch // 2, in_ch // 2, 2, stride=2)\n",
        "\n",
        "        self.conv = double_conv(in_ch, out_ch)\n",
        "\n",
        "    def forward(self, x1, x2):\n",
        "        x1 = self.up(x1)\n",
        "\n",
        "        # input is CHW\n",
        "        diffY = x2.size()[2] - x1.size()[2]\n",
        "        diffX = x2.size()[3] - x1.size()[3]\n",
        "\n",
        "        x1 = F.pad(x1, (diffX // 2, diffX - diffX // 2,\n",
        "                        diffY // 2, diffY - diffY // 2))\n",
        "\n",
        "        x = torch.cat([x2, x1], dim=1)\n",
        "        x = self.conv(x)\n",
        "        return x\n",
        "\n",
        "\n",
        "class outconv(nn.Module):\n",
        "    def __init__(self, in_ch, out_ch):\n",
        "        super(outconv, self).__init__()\n",
        "        self.conv = nn.Conv2d(in_ch, out_ch, 1)\n",
        "\n",
        "    def forward(self, x):\n",
        "        x = self.conv(x)\n",
        "        return x"
      ],
      "execution_count": 0,
      "outputs": []
    },
    {
      "cell_type": "code",
      "metadata": {
        "id": "SEEG5r4DcCH3",
        "colab_type": "code",
        "outputId": "63192628-b628-43dc-ad05-6106fe21fbe3",
        "colab": {
          "base_uri": "https://localhost:8080/",
          "height": 34
        }
      },
      "source": [
        "class UNet(nn.Module):\n",
        "    def __init__(self, n_channels, n_classes):\n",
        "        super(UNet, self).__init__()\n",
        "        self.inc = inconv(n_channels, 64)\n",
        "        self.down1 = down(64, 128)\n",
        "        self.down2 = down(128, 256)\n",
        "        self.down3 = down(256, 512)\n",
        "        self.down4 = down(512, 512)\n",
        "        self.up1 = up(1024, 256, bilinear = False) # upsampling weights are made learnable\n",
        "        self.up2 = up(512, 128, bilinear = False)\n",
        "        self.up3 = up(256, 64, bilinear = False)\n",
        "        self.up4 = up(128, 64, bilinear = False)\n",
        "        self.outc = outconv(64, n_classes)\n",
        "        self.dropout = torch.nn.Dropout2d(0.5)\n",
        "\n",
        "    def forward(self, x):\n",
        "        x = x.float()\n",
        "        x1 = self.inc(x)\n",
        "        x2 = self.down1(x1)\n",
        "       # x2 = self.dropout(x2)\n",
        "        x3 = self.down2(x2)\n",
        "        x4 = self.down3(x3)\n",
        "        x5 = self.down4(x4)\n",
        "        x = self.up1(x5, x4)\n",
        "        x = self.up2(x, x3)\n",
        "        x = self.dropout(x)\n",
        "        x = self.up3(x, x2)\n",
        "        #x = self.dropout(x) #\n",
        "        x = self.up4(x, x1)\n",
        "        x = self.outc(x)\n",
        "        return torch.sigmoid(x)\n",
        "      \n",
        "      \n",
        "      \n",
        "      \n",
        "      \n",
        "      \n",
        "model = UNet(1, 1)\n",
        "model.to('cuda')\n",
        "print(\"Model Loaded to GPU\")"
      ],
      "execution_count": 18,
      "outputs": [
        {
          "output_type": "stream",
          "text": [
            "Model Loaded to GPU\n"
          ],
          "name": "stdout"
        }
      ]
    },
    {
      "cell_type": "code",
      "metadata": {
        "id": "Kkar10aVwiqC",
        "colab_type": "code",
        "colab": {}
      },
      "source": [
        "criterion = nn.BCELoss()\n",
        "optimizer = torch.optim.Adam(model.parameters(), lr = 0.0077)"
      ],
      "execution_count": 0,
      "outputs": []
    },
    {
      "cell_type": "code",
      "metadata": {
        "id": "mK-C6T9GTOYm",
        "colab_type": "code",
        "colab": {}
      },
      "source": [
        "# calculates similarity index between predicted and actual segmentation\n",
        "def dice_index(y_pred, y_actual):\n",
        "    smooth = 0.000001\n",
        "    size_of_batch = y_pred.size(0)\n",
        "    \n",
        "    p1 = y_pred.view(size_of_batch, -1)\n",
        "    p2 = y_actual.view(size_of_batch, -1)\n",
        "    \n",
        "    intersection = (p1 * p2).sum()\n",
        "    \n",
        "    dice =  ((2.0 * intersection )+ smooth) / (p1.sum() + p2.sum() + smooth)\n",
        "    #dice.requires_grad = True\n",
        "    \n",
        "    return dice"
      ],
      "execution_count": 0,
      "outputs": []
    },
    {
      "cell_type": "code",
      "metadata": {
        "id": "RM3cC8H8TxJi",
        "colab_type": "code",
        "colab": {}
      },
      "source": [
        "# calculate dice loss which will be later used in loss function calculation\n",
        "def dice_loss(y_predict, y_train): ## to add in bce looss\n",
        "  \n",
        "  dice_loss = 1 -(dice_index(y_predict, y_train))\n",
        "  \n",
        "  return dice_loss\n",
        "  "
      ],
      "execution_count": 0,
      "outputs": []
    },
    {
      "cell_type": "code",
      "metadata": {
        "id": "5XAgy9133DFW",
        "colab_type": "code",
        "outputId": "b0157fdb-5c94-4734-f62c-6fd35d7dc9f5",
        "colab": {
          "base_uri": "https://localhost:8080/",
          "height": 1000
        }
      },
      "source": [
        "epochs = 20\n",
        "\n",
        "\n",
        "train_running_loss_history = []\n",
        "validation_running_loss_history =[]\n",
        "\n",
        "for e in range(epochs):\n",
        "  train_running_loss = 0.0\n",
        "  validation_running_loss = 0.0\n",
        "  \n",
        "  model.train()\n",
        "  \n",
        "  for ith_batch, sample_batched in enumerate(train_loader):\n",
        "    X_train = sample_batched['image'].to('cuda')\n",
        "    y_train = sample_batched['annotation'].to('cuda')\n",
        "    \n",
        "    #X_train.requires_grad = True\n",
        "    #y_train.requires_grad = True\n",
        "\n",
        "    #print(ith_batch) #, X_train.size(), y_train.size())\n",
        "\n",
        "    optimizer.zero_grad()\n",
        "    y_pred = model(X_train)\n",
        "   # out = (y_pred + 0.5).int().float()\n",
        "    \n",
        "    loss = 0.30 * dice_loss(y_pred, y_train) +  0.70 * criterion(y_pred, y_train)\n",
        "    #loss = criterion(y_pred, y_train)\n",
        "    loss.backward()\n",
        "    optimizer.step()\n",
        "    \n",
        "    if ith_batch % 50 == 0:\n",
        "      print('Epoch: ', e + 1, 'Batch: ', ith_batch, 'Current Loss: ', loss.item())\n",
        "      \n",
        "    train_running_loss += loss.item()\n",
        "    \n",
        "    \n",
        "    \n",
        "    \n",
        "  else:\n",
        "    with torch.no_grad():\n",
        "      \n",
        "      model.eval()\n",
        "      \n",
        "      for ith_batch, sample_batched in enumerate(validation_loader):\n",
        "          X_val = sample_batched['image'].to('cuda')\n",
        "          y_val = sample_batched['annotation'].to('cuda')\n",
        "          \n",
        "          \n",
        "          \n",
        "          y_out = model(X_val)\n",
        "          out_val = (y_out + 0.5).int().float()\n",
        "          \n",
        "          val_loss = 0.3 * dice_loss(out_val, y_val)  + 0.7 * criterion(y_out, y_val)\n",
        "          \n",
        "          #val_loss = criterion(y_out, y_val)\n",
        "          \n",
        "          validation_running_loss += val_loss.item()\n",
        "      print(\"================================================================================\")\n",
        "      print(\"Epoch {} completed\".format(e + 1))\n",
        "      \n",
        "      train_epoch_loss = train_running_loss / len(train_loader)\n",
        "      validation_epoch_loss = validation_running_loss / len(validation_loader)\n",
        "      \n",
        "      print(\"Average train loss is {}: \".format(train_epoch_loss))\n",
        "      print(\"Average validation loss is {}\".format(validation_epoch_loss))\n",
        "      print(\"================================================================================\")\n",
        "      train_running_loss_history.append(train_epoch_loss)\n",
        "      validation_running_loss_history.append(validation_epoch_loss)\n",
        "  \n",
        "  torch.cuda.empty_cache()\n",
        "      #print(y_pred.shape)\n",
        "\n",
        "    #y_pred = y_pred.to('cpu')\n",
        "    #X_train = X_train.to('cpu')\n",
        "\n",
        "    #del y_train\n",
        "    #torch.cuda.empty_cache()\n",
        "    #if ith_batch ==100:\n",
        "    #break\n",
        "  #for index in range(2):\n",
        "  #         ax = gig.add_subplot(2, 2 , index + 1)  # subplot index starts from 1\n",
        "   #         plt.imshow(im_converter(X_train[index]))\n",
        "    #        ax = gig.add_subplot(2, 2, index + 3)\n",
        "     #       plt.imshow(im_converter(y_pred[index]))\n",
        "  \n",
        "    \n",
        "  \n",
        "   \n",
        "  \n",
        "\n",
        "  \n",
        "  \n",
        "  \n",
        "    "
      ],
      "execution_count": 23,
      "outputs": [
        {
          "output_type": "stream",
          "text": [
            "Epoch:  1 Batch:  0 Current Loss:  0.6680938005447388\n",
            "Epoch:  1 Batch:  50 Current Loss:  0.4865875542163849\n",
            "Epoch:  1 Batch:  100 Current Loss:  0.35073530673980713\n",
            "Epoch:  1 Batch:  150 Current Loss:  0.32920899987220764\n",
            "Epoch:  1 Batch:  200 Current Loss:  0.43035316467285156\n",
            "Epoch:  1 Batch:  250 Current Loss:  0.2863713800907135\n",
            "Epoch:  1 Batch:  300 Current Loss:  0.24172323942184448\n",
            "Epoch:  1 Batch:  350 Current Loss:  0.24603405594825745\n",
            "================================================================================\n",
            "Epoch 1 completed\n",
            "Average train loss is 0.37477016560733317: \n",
            "Average validation loss is 0.2767146201431751\n",
            "================================================================================\n",
            "Epoch:  2 Batch:  0 Current Loss:  0.3649059236049652\n",
            "Epoch:  2 Batch:  50 Current Loss:  0.22681820392608643\n",
            "Epoch:  2 Batch:  100 Current Loss:  0.23158897459506989\n",
            "Epoch:  2 Batch:  150 Current Loss:  0.25783076882362366\n",
            "Epoch:  2 Batch:  200 Current Loss:  0.16284367442131042\n",
            "Epoch:  2 Batch:  250 Current Loss:  0.248943492770195\n",
            "Epoch:  2 Batch:  300 Current Loss:  0.1694260835647583\n",
            "Epoch:  2 Batch:  350 Current Loss:  0.44972559809684753\n",
            "================================================================================\n",
            "Epoch 2 completed\n",
            "Average train loss is 0.27477591259405015: \n",
            "Average validation loss is 0.20829573459923267\n",
            "================================================================================\n",
            "Epoch:  3 Batch:  0 Current Loss:  0.16718485951423645\n",
            "Epoch:  3 Batch:  50 Current Loss:  0.2919274568557739\n",
            "Epoch:  3 Batch:  100 Current Loss:  0.18501129746437073\n",
            "Epoch:  3 Batch:  150 Current Loss:  0.16059738397598267\n",
            "Epoch:  3 Batch:  200 Current Loss:  0.17870941758155823\n",
            "Epoch:  3 Batch:  250 Current Loss:  0.2722148597240448\n",
            "Epoch:  3 Batch:  300 Current Loss:  0.14453984797000885\n",
            "Epoch:  3 Batch:  350 Current Loss:  0.1492493599653244\n",
            "================================================================================\n",
            "Epoch 3 completed\n",
            "Average train loss is 0.21179400419816374: \n",
            "Average validation loss is 0.1818890518695116\n",
            "================================================================================\n",
            "Epoch:  4 Batch:  0 Current Loss:  0.18315044045448303\n",
            "Epoch:  4 Batch:  50 Current Loss:  0.1462261825799942\n",
            "Epoch:  4 Batch:  100 Current Loss:  0.16570788621902466\n",
            "Epoch:  4 Batch:  150 Current Loss:  0.3610307276248932\n",
            "Epoch:  4 Batch:  200 Current Loss:  0.18234843015670776\n",
            "Epoch:  4 Batch:  250 Current Loss:  0.14989981055259705\n",
            "Epoch:  4 Batch:  300 Current Loss:  0.09242034703493118\n",
            "Epoch:  4 Batch:  350 Current Loss:  0.38309064507484436\n",
            "================================================================================\n",
            "Epoch 4 completed\n",
            "Average train loss is 0.16777007590979337: \n",
            "Average validation loss is 0.696546311378479\n",
            "================================================================================\n",
            "Epoch:  5 Batch:  0 Current Loss:  0.18616877496242523\n",
            "Epoch:  5 Batch:  50 Current Loss:  0.2118304967880249\n",
            "Epoch:  5 Batch:  100 Current Loss:  0.1483260840177536\n",
            "Epoch:  5 Batch:  150 Current Loss:  0.14588716626167297\n",
            "Epoch:  5 Batch:  200 Current Loss:  0.34112101793289185\n",
            "Epoch:  5 Batch:  250 Current Loss:  0.1041286289691925\n",
            "Epoch:  5 Batch:  300 Current Loss:  0.2095080316066742\n",
            "Epoch:  5 Batch:  350 Current Loss:  0.12937471270561218\n",
            "================================================================================\n",
            "Epoch 5 completed\n",
            "Average train loss is 0.14362020855769514: \n",
            "Average validation loss is 0.19322987888008356\n",
            "================================================================================\n",
            "Epoch:  6 Batch:  0 Current Loss:  0.09484051167964935\n",
            "Epoch:  6 Batch:  50 Current Loss:  0.09226314723491669\n",
            "Epoch:  6 Batch:  100 Current Loss:  0.2009626179933548\n",
            "Epoch:  6 Batch:  150 Current Loss:  0.12164615839719772\n",
            "Epoch:  6 Batch:  200 Current Loss:  0.257405549287796\n",
            "Epoch:  6 Batch:  250 Current Loss:  0.216765895485878\n",
            "Epoch:  6 Batch:  300 Current Loss:  0.12342971563339233\n",
            "Epoch:  6 Batch:  350 Current Loss:  0.14532260596752167\n",
            "================================================================================\n",
            "Epoch 6 completed\n",
            "Average train loss is 0.1262705286219716: \n",
            "Average validation loss is 0.4336042280122638\n",
            "================================================================================\n",
            "Epoch:  7 Batch:  0 Current Loss:  0.1906348466873169\n",
            "Epoch:  7 Batch:  50 Current Loss:  0.08014100790023804\n",
            "Epoch:  7 Batch:  100 Current Loss:  0.08720903098583221\n",
            "Epoch:  7 Batch:  150 Current Loss:  0.1318804919719696\n",
            "Epoch:  7 Batch:  200 Current Loss:  0.04699782654643059\n",
            "Epoch:  7 Batch:  250 Current Loss:  0.19144219160079956\n",
            "Epoch:  7 Batch:  300 Current Loss:  0.10373494774103165\n",
            "Epoch:  7 Batch:  350 Current Loss:  0.10593909025192261\n",
            "================================================================================\n",
            "Epoch 7 completed\n",
            "Average train loss is 0.11948863971047104: \n",
            "Average validation loss is 0.1110405608639121\n",
            "================================================================================\n",
            "Epoch:  8 Batch:  0 Current Loss:  0.06527681648731232\n",
            "Epoch:  8 Batch:  50 Current Loss:  0.2799778878688812\n",
            "Epoch:  8 Batch:  100 Current Loss:  0.15009479224681854\n",
            "Epoch:  8 Batch:  150 Current Loss:  0.04932909458875656\n",
            "Epoch:  8 Batch:  200 Current Loss:  0.041586440056562424\n",
            "Epoch:  8 Batch:  250 Current Loss:  0.1033112034201622\n",
            "Epoch:  8 Batch:  300 Current Loss:  0.08501072973012924\n",
            "Epoch:  8 Batch:  350 Current Loss:  0.09444268047809601\n",
            "================================================================================\n",
            "Epoch 8 completed\n",
            "Average train loss is 0.10750392620451749: \n",
            "Average validation loss is 0.11748404923826455\n",
            "================================================================================\n",
            "Epoch:  9 Batch:  0 Current Loss:  0.12610499560832977\n",
            "Epoch:  9 Batch:  50 Current Loss:  0.18356050550937653\n",
            "Epoch:  9 Batch:  100 Current Loss:  0.07756493240594864\n",
            "Epoch:  9 Batch:  150 Current Loss:  0.0796155035495758\n",
            "Epoch:  9 Batch:  200 Current Loss:  0.10355332493782043\n",
            "Epoch:  9 Batch:  250 Current Loss:  0.09068291634321213\n",
            "Epoch:  9 Batch:  300 Current Loss:  0.06151001527905464\n",
            "Epoch:  9 Batch:  350 Current Loss:  0.07737496495246887\n",
            "================================================================================\n",
            "Epoch 9 completed\n",
            "Average train loss is 0.09885991615708917: \n",
            "Average validation loss is 0.09434908522292972\n",
            "================================================================================\n",
            "Epoch:  10 Batch:  0 Current Loss:  0.043272990733385086\n",
            "Epoch:  10 Batch:  50 Current Loss:  0.16434074938297272\n",
            "Epoch:  10 Batch:  100 Current Loss:  0.08356529474258423\n",
            "Epoch:  10 Batch:  150 Current Loss:  0.09179870039224625\n",
            "Epoch:  10 Batch:  200 Current Loss:  0.08084864169359207\n",
            "Epoch:  10 Batch:  250 Current Loss:  0.05089078098535538\n",
            "Epoch:  10 Batch:  300 Current Loss:  0.14388947188854218\n",
            "Epoch:  10 Batch:  350 Current Loss:  0.037824276834726334\n",
            "================================================================================\n",
            "Epoch 10 completed\n",
            "Average train loss is 0.09383712735958398: \n",
            "Average validation loss is 0.2016580954566598\n",
            "================================================================================\n",
            "Epoch:  11 Batch:  0 Current Loss:  0.100000761449337\n",
            "Epoch:  11 Batch:  50 Current Loss:  0.04773002862930298\n",
            "Epoch:  11 Batch:  100 Current Loss:  0.05294454097747803\n",
            "Epoch:  11 Batch:  150 Current Loss:  0.042780011892318726\n",
            "Epoch:  11 Batch:  200 Current Loss:  0.1782189905643463\n",
            "Epoch:  11 Batch:  250 Current Loss:  0.32062941789627075\n",
            "Epoch:  11 Batch:  300 Current Loss:  0.051494281738996506\n",
            "Epoch:  11 Batch:  350 Current Loss:  0.09083686769008636\n",
            "================================================================================\n",
            "Epoch 11 completed\n",
            "Average train loss is 0.09170289787929504: \n",
            "Average validation loss is 0.08299600500613451\n",
            "================================================================================\n",
            "Epoch:  12 Batch:  0 Current Loss:  0.0557795912027359\n",
            "Epoch:  12 Batch:  50 Current Loss:  0.0825694352388382\n",
            "Epoch:  12 Batch:  100 Current Loss:  0.1214669868350029\n",
            "Epoch:  12 Batch:  150 Current Loss:  0.6920833587646484\n",
            "Epoch:  12 Batch:  200 Current Loss:  0.05006127059459686\n",
            "Epoch:  12 Batch:  250 Current Loss:  0.12119569629430771\n",
            "Epoch:  12 Batch:  300 Current Loss:  0.052070632576942444\n",
            "Epoch:  12 Batch:  350 Current Loss:  0.04735806584358215\n",
            "================================================================================\n",
            "Epoch 12 completed\n",
            "Average train loss is 0.0928308684239164: \n",
            "Average validation loss is 0.11479031091555952\n",
            "================================================================================\n",
            "Epoch:  13 Batch:  0 Current Loss:  0.05425748974084854\n",
            "Epoch:  13 Batch:  50 Current Loss:  0.0459003821015358\n",
            "Epoch:  13 Batch:  100 Current Loss:  0.11406353116035461\n",
            "Epoch:  13 Batch:  150 Current Loss:  0.09071145206689835\n",
            "Epoch:  13 Batch:  200 Current Loss:  0.049546390771865845\n",
            "Epoch:  13 Batch:  250 Current Loss:  0.039918601512908936\n",
            "Epoch:  13 Batch:  300 Current Loss:  0.05872885882854462\n",
            "Epoch:  13 Batch:  350 Current Loss:  0.06927607208490372\n",
            "================================================================================\n",
            "Epoch 13 completed\n",
            "Average train loss is 0.08322995929513127: \n",
            "Average validation loss is 0.08182275421917438\n",
            "================================================================================\n",
            "Epoch:  14 Batch:  0 Current Loss:  0.0890624150633812\n",
            "Epoch:  14 Batch:  50 Current Loss:  0.1378105729818344\n",
            "Epoch:  14 Batch:  100 Current Loss:  0.04724765568971634\n",
            "Epoch:  14 Batch:  150 Current Loss:  0.0593758299946785\n",
            "Epoch:  14 Batch:  200 Current Loss:  0.06962814182043076\n",
            "Epoch:  14 Batch:  250 Current Loss:  0.10304083675146103\n",
            "Epoch:  14 Batch:  300 Current Loss:  0.03495839238166809\n",
            "Epoch:  14 Batch:  350 Current Loss:  0.08978387713432312\n",
            "================================================================================\n",
            "Epoch 14 completed\n",
            "Average train loss is 0.08360500017181038: \n",
            "Average validation loss is 0.1402274613827467\n",
            "================================================================================\n",
            "Epoch:  15 Batch:  0 Current Loss:  0.059868693351745605\n",
            "Epoch:  15 Batch:  50 Current Loss:  0.07671532034873962\n",
            "Epoch:  15 Batch:  100 Current Loss:  0.055320464074611664\n",
            "Epoch:  15 Batch:  150 Current Loss:  0.13856416940689087\n",
            "Epoch:  15 Batch:  200 Current Loss:  0.06660686433315277\n",
            "Epoch:  15 Batch:  250 Current Loss:  0.04587116092443466\n",
            "Epoch:  15 Batch:  300 Current Loss:  0.05902243033051491\n",
            "Epoch:  15 Batch:  350 Current Loss:  0.03772483766078949\n",
            "================================================================================\n",
            "Epoch 15 completed\n",
            "Average train loss is 0.0827890675002709: \n",
            "Average validation loss is 0.07863292627036572\n",
            "================================================================================\n",
            "Epoch:  16 Batch:  0 Current Loss:  0.06190715730190277\n",
            "Epoch:  16 Batch:  50 Current Loss:  0.07452546805143356\n",
            "Epoch:  16 Batch:  100 Current Loss:  0.10393516719341278\n",
            "Epoch:  16 Batch:  150 Current Loss:  0.06403397023677826\n",
            "Epoch:  16 Batch:  200 Current Loss:  0.04236546531319618\n",
            "Epoch:  16 Batch:  250 Current Loss:  0.052762843668460846\n",
            "Epoch:  16 Batch:  300 Current Loss:  0.06427072733640671\n",
            "Epoch:  16 Batch:  350 Current Loss:  0.04061620682477951\n",
            "================================================================================\n",
            "Epoch 16 completed\n",
            "Average train loss is 0.07775738289114088: \n",
            "Average validation loss is 0.09555405518040061\n",
            "================================================================================\n",
            "Epoch:  17 Batch:  0 Current Loss:  0.13843907415866852\n",
            "Epoch:  17 Batch:  50 Current Loss:  0.06348848342895508\n",
            "Epoch:  17 Batch:  100 Current Loss:  0.05904706194996834\n",
            "Epoch:  17 Batch:  150 Current Loss:  0.06624776870012283\n",
            "Epoch:  17 Batch:  200 Current Loss:  0.08617401123046875\n",
            "Epoch:  17 Batch:  250 Current Loss:  0.0966440960764885\n",
            "Epoch:  17 Batch:  300 Current Loss:  0.10120582580566406\n",
            "Epoch:  17 Batch:  350 Current Loss:  0.16624715924263\n",
            "================================================================================\n",
            "Epoch 17 completed\n",
            "Average train loss is 0.07733807306736708: \n",
            "Average validation loss is 0.07693647459149361\n",
            "================================================================================\n",
            "Epoch:  18 Batch:  0 Current Loss:  0.0335986465215683\n",
            "Epoch:  18 Batch:  50 Current Loss:  0.032302048057317734\n",
            "Epoch:  18 Batch:  100 Current Loss:  0.04195672646164894\n",
            "Epoch:  18 Batch:  150 Current Loss:  0.043212149292230606\n",
            "Epoch:  18 Batch:  200 Current Loss:  0.06887919455766678\n",
            "Epoch:  18 Batch:  250 Current Loss:  0.04444589465856552\n",
            "Epoch:  18 Batch:  300 Current Loss:  0.11653737723827362\n",
            "Epoch:  18 Batch:  350 Current Loss:  0.05667472630739212\n",
            "================================================================================\n",
            "Epoch 18 completed\n",
            "Average train loss is 0.07648928724229336: \n",
            "Average validation loss is 0.09887703975662589\n",
            "================================================================================\n",
            "Epoch:  19 Batch:  0 Current Loss:  0.042840950191020966\n",
            "Epoch:  19 Batch:  50 Current Loss:  0.1555408239364624\n",
            "Epoch:  19 Batch:  100 Current Loss:  0.08495543897151947\n",
            "Epoch:  19 Batch:  150 Current Loss:  0.05595315992832184\n",
            "Epoch:  19 Batch:  200 Current Loss:  0.051184892654418945\n",
            "Epoch:  19 Batch:  250 Current Loss:  0.03792967647314072\n",
            "Epoch:  19 Batch:  300 Current Loss:  0.060661546885967255\n",
            "Epoch:  19 Batch:  350 Current Loss:  0.10953549295663834\n",
            "================================================================================\n",
            "Epoch 19 completed\n",
            "Average train loss is 0.07392921347171068: \n",
            "Average validation loss is 0.08866235630586744\n",
            "================================================================================\n",
            "Epoch:  20 Batch:  0 Current Loss:  0.0392179861664772\n",
            "Epoch:  20 Batch:  50 Current Loss:  0.09729274362325668\n",
            "Epoch:  20 Batch:  100 Current Loss:  0.03938281536102295\n",
            "Epoch:  20 Batch:  150 Current Loss:  0.031204786151647568\n",
            "Epoch:  20 Batch:  200 Current Loss:  0.03075616993010044\n",
            "Epoch:  20 Batch:  250 Current Loss:  0.03468695282936096\n",
            "Epoch:  20 Batch:  300 Current Loss:  0.045799776911735535\n",
            "Epoch:  20 Batch:  350 Current Loss:  0.0886259526014328\n",
            "================================================================================\n",
            "Epoch 20 completed\n",
            "Average train loss is 0.07321906689088792: \n",
            "Average validation loss is 0.07832019109278918\n",
            "================================================================================\n"
          ],
          "name": "stdout"
        }
      ]
    },
    {
      "cell_type": "code",
      "metadata": {
        "id": "q_asZLDb3Mnm",
        "colab_type": "code",
        "outputId": "d740fcc4-620c-43c6-9b00-488edd2df00a",
        "colab": {
          "base_uri": "https://localhost:8080/",
          "height": 286
        }
      },
      "source": [
        "plt.plot(train_running_loss_history, label = 'Train Loss')\n",
        "plt.plot(validation_running_loss_history, label = 'Validation Loss')\n",
        "plt.legend()"
      ],
      "execution_count": 24,
      "outputs": [
        {
          "output_type": "execute_result",
          "data": {
            "text/plain": [
              "<matplotlib.legend.Legend at 0x7fde76508240>"
            ]
          },
          "metadata": {
            "tags": []
          },
          "execution_count": 24
        },
        {
          "output_type": "display_data",
          "data": {
            "image/png": "[encoded data removed]",
            "text/plain": [
              "<Figure size 432x288 with 1 Axes>"
            ]
          },
          "metadata": {
            "tags": []
          }
        }
      ]
    },
    {
      "cell_type": "code",
      "metadata": {
        "id": "oav3DSR5LeY8",
        "colab_type": "code",
        "outputId": "a78a8ecf-769c-436e-c402-5d1d2466234d",
        "colab": {
          "base_uri": "https://localhost:8080/",
          "height": 34
        }
      },
      "source": [
        "model.eval()\n",
        "X_train.size()"
      ],
      "execution_count": 25,
      "outputs": [
        {
          "output_type": "execute_result",
          "data": {
            "text/plain": [
              "torch.Size([1, 1, 572, 572])"
            ]
          },
          "metadata": {
            "tags": []
          },
          "execution_count": 25
        }
      ]
    },
    {
      "cell_type": "code",
      "metadata": {
        "id": "8ObtRUCJ9pYt",
        "colab_type": "code",
        "colab": {}
      },
      "source": [
        "out = (y_pred + 0.5).int().float()"
      ],
      "execution_count": 0,
      "outputs": []
    },
    {
      "cell_type": "code",
      "metadata": {
        "id": "nmzZ1KWl7Dk7",
        "colab_type": "code",
        "outputId": "a1442426-843f-43f7-be41-0a1991d2c3ce",
        "colab": {
          "base_uri": "https://localhost:8080/",
          "height": 52
        }
      },
      "source": [
        "print(dice_index(y_train, out))\n",
        "print(dice_loss(y_train, out))"
      ],
      "execution_count": 27,
      "outputs": [
        {
          "output_type": "stream",
          "text": [
            "tensor(0.9775, device='cuda:0')\n",
            "tensor(0.0225, device='cuda:0')\n"
          ],
          "name": "stdout"
        }
      ]
    },
    {
      "cell_type": "code",
      "metadata": {
        "id": "5IEn2rjIzo4v",
        "colab_type": "code",
        "outputId": "17a8933e-e54c-46cf-d27e-1528444a0f2b",
        "colab": {
          "base_uri": "https://localhost:8080/",
          "height": 598
        }
      },
      "source": [
        "pig = plt.figure(figsize = (15, 6))\n",
        "\n",
        "a = pig.add_subplot(2, 3, 1)\n",
        "plt.imshow(im_converterX(X_train[0]))\n",
        "\n",
        "a = pig.add_subplot(2, 3, 2)\n",
        "plt.imshow(im_converterY(y_train[0]))\n",
        "\n",
        "a = pig.add_subplot(2, 3, 3)\n",
        "plt.imshow(im_converterY(out[0]))\n",
        "\n",
        "\n",
        "a = pig.add_subplot(2, 3, 4)\n",
        "plt.imshow(im_converterX(X_train[1]))\n",
        "\n",
        "a = pig.add_subplot(2, 3, 5)\n",
        "plt.imshow(im_converterY(y_train[1]))\n",
        "\n",
        "a = pig.add_subplot(2, 3, 6)\n",
        "plt.imshow(im_converterY(out[1]))"
      ],
      "execution_count": 28,
      "outputs": [
        {
          "output_type": "error",
          "ename": "IndexError",
          "evalue": "ignored",
          "traceback": [
            "\u001b[0;31m---------------------------------------------------------------------------\u001b[0m",
            "\u001b[0;31mIndexError\u001b[0m                                Traceback (most recent call last)",
            "\u001b[0;32m<ipython-input-28-18d19022988c>\u001b[0m in \u001b[0;36m<module>\u001b[0;34m()\u001b[0m\n\u001b[1;32m     12\u001b[0m \u001b[0;34m\u001b[0m\u001b[0m\n\u001b[1;32m     13\u001b[0m \u001b[0ma\u001b[0m \u001b[0;34m=\u001b[0m \u001b[0mpig\u001b[0m\u001b[0;34m.\u001b[0m\u001b[0madd_subplot\u001b[0m\u001b[0;34m(\u001b[0m\u001b[0;36m2\u001b[0m\u001b[0;34m,\u001b[0m \u001b[0;36m3\u001b[0m\u001b[0;34m,\u001b[0m \u001b[0;36m4\u001b[0m\u001b[0;34m)\u001b[0m\u001b[0;34m\u001b[0m\u001b[0;34m\u001b[0m\u001b[0m\n\u001b[0;32m---> 14\u001b[0;31m \u001b[0mplt\u001b[0m\u001b[0;34m.\u001b[0m\u001b[0mimshow\u001b[0m\u001b[0;34m(\u001b[0m\u001b[0mim_converterX\u001b[0m\u001b[0;34m(\u001b[0m\u001b[0mX_train\u001b[0m\u001b[0;34m[\u001b[0m\u001b[0;36m1\u001b[0m\u001b[0;34m]\u001b[0m\u001b[0;34m)\u001b[0m\u001b[0;34m)\u001b[0m\u001b[0;34m\u001b[0m\u001b[0;34m\u001b[0m\u001b[0m\n\u001b[0m\u001b[1;32m     15\u001b[0m \u001b[0;34m\u001b[0m\u001b[0m\n\u001b[1;32m     16\u001b[0m \u001b[0ma\u001b[0m \u001b[0;34m=\u001b[0m \u001b[0mpig\u001b[0m\u001b[0;34m.\u001b[0m\u001b[0madd_subplot\u001b[0m\u001b[0;34m(\u001b[0m\u001b[0;36m2\u001b[0m\u001b[0;34m,\u001b[0m \u001b[0;36m3\u001b[0m\u001b[0;34m,\u001b[0m \u001b[0;36m5\u001b[0m\u001b[0;34m)\u001b[0m\u001b[0;34m\u001b[0m\u001b[0;34m\u001b[0m\u001b[0m\n",
            "\u001b[0;31mIndexError\u001b[0m: index 1 is out of bounds for dimension 0 with size 1"
          ]
        },
        {
          "output_type": "display_data",
          "data": {
            "image/png": "[encoded data removed]",
            "text/plain": [
              "<Figure size 1080x432 with 4 Axes>"
            ]
          },
          "metadata": {
            "tags": []
          }
        }
      ]
    },
    {
      "cell_type": "code",
      "metadata": {
        "id": "obuo5GpotgF4",
        "colab_type": "code",
        "outputId": "5098b1a1-a9fa-447e-c1e6-55cf96e450be",
        "colab": {
          "base_uri": "https://localhost:8080/",
          "height": 52
        }
      },
      "source": [
        "gg = dice_index(out, y_train)\n",
        "print(gg)\n",
        "print(dice_loss(out, y_train))"
      ],
      "execution_count": 29,
      "outputs": [
        {
          "output_type": "stream",
          "text": [
            "tensor(0.9775, device='cuda:0')\n",
            "tensor(0.0225, device='cuda:0')\n"
          ],
          "name": "stdout"
        }
      ]
    },
    {
      "cell_type": "code",
      "metadata": {
        "id": "gjwzB8SIDmsg",
        "colab_type": "code",
        "colab": {}
      },
      "source": [
        "class HC18_test(Dataset):\n",
        "    def __init__(self, root_dir, transformX = None):\n",
        "        self.pixel_file = pd.read_csv(os.path.join(root_dir, 'test_set_pixel_size.csv'))\n",
        "        self.root_dir = root_dir\n",
        "        self.transformX = transformX\n",
        "        \n",
        "    def __len__(self):\n",
        "        return len(self.pixel_file)\n",
        "    \n",
        "    def __getitem__(self, index):\n",
        "        imx_name = os.path.join(self.root_dir, 'test_set', self.pixel_file.iloc[index, 0])\n",
        "        \n",
        "        imx = Image.open(imx_name)\n",
        "        \n",
        "        f_name = self.pixel_file.iloc[index, 0]\n",
        "        \n",
        "        if self.transformX :\n",
        "            imx = self.transformX(imx)\n",
        "        \n",
        "        sample = {'image': imx, 'f_name': f_name}\n",
        "        return sample"
      ],
      "execution_count": 0,
      "outputs": []
    },
    {
      "cell_type": "code",
      "metadata": {
        "id": "ANbk8RUTEEWi",
        "colab_type": "code",
        "colab": {}
      },
      "source": [
        "test_data = HC18_test('/content/HC18', transformX = tx_X)"
      ],
      "execution_count": 0,
      "outputs": []
    },
    {
      "cell_type": "code",
      "metadata": {
        "id": "m7vHHClpF1H-",
        "colab_type": "code",
        "colab": {}
      },
      "source": [
        "test_loader = DataLoader(dataset = test_data, batch_size = 2, shuffle = True)"
      ],
      "execution_count": 0,
      "outputs": []
    },
    {
      "cell_type": "code",
      "metadata": {
        "id": "isvc3sTnFS_i",
        "colab_type": "code",
        "outputId": "143c16b3-d8e5-46a8-8ac3-e6e3797fff2d",
        "colab": {
          "base_uri": "https://localhost:8080/",
          "height": 395
        }
      },
      "source": [
        "## Here we loop through our train_loader and see the images\n",
        "## Looks good\n",
        "fig = plt.figure(figsize = (15,6))\n",
        "#model.to('cpu')\n",
        "for ith_batch, sample_batched in enumerate(test_loader):\n",
        "  \n",
        "    X_test = sample_batched['image'].to('cuda')\n",
        "    print(ith_batch, X_test.size())\n",
        "    \n",
        "    y_test = (model(X_test) + 0.5).int().float()\n",
        "    \n",
        "    \n",
        "    \n",
        "    for index in range(2):\n",
        "        ax = fig.add_subplot(2, 2 , index + 1)  # subplot index starts from 1\n",
        "        plt.imshow(im_converterX(X_test[index]))\n",
        "        \n",
        "        ax  = fig.add_subplot(2, 2, index + 3)\n",
        "        plt.imshow(im_converterY(y_test[index]))\n",
        "    break"
      ],
      "execution_count": 34,
      "outputs": [
        {
          "output_type": "stream",
          "text": [
            "0 torch.Size([2, 1, 572, 572])\n"
          ],
          "name": "stdout"
        },
        {
          "output_type": "display_data",
          "data": {
            "image/png": "[encoded data removed]",
            "text/plain": [
              "<Figure size 1080x432 with 4 Axes>"
            ]
          },
          "metadata": {
            "tags": []
          }
        }
      ]
    },
    {
      "cell_type": "code",
      "metadata": {
        "id": "9MwrdTLVg_R5",
        "colab_type": "code",
        "colab": {}
      },
      "source": [
        "def avg_dice_index(dataloader):\n",
        "  \n",
        "    dice = 0.0\n",
        "    model.eval()\n",
        "    with torch.no_grad():\n",
        "    \n",
        "        for ith_batch, sample_batched in enumerate(dataloader):\n",
        "  \n",
        "            X_train = sample_batched['image'].to('cuda')\n",
        "            y_train = sample_batched['annotation'].to('cuda')\n",
        "            \n",
        "            y_predict = (model(X_train) + 0.5).int().float()\n",
        "            \n",
        "            dice += dice_index(y_predict, y_train)\n",
        "            \n",
        "            \n",
        "            \n",
        "    avg_dice = dice / len(dataloader)\n",
        "    return avg_dice.item()"
      ],
      "execution_count": 0,
      "outputs": []
    },
    {
      "cell_type": "code",
      "metadata": {
        "id": "kVcdOezElB9i",
        "colab_type": "code",
        "outputId": "2387450d-c6af-4bd6-f08b-19b821fcd231",
        "colab": {
          "base_uri": "https://localhost:8080/",
          "height": 34
        }
      },
      "source": [
        "avg_dice_index(validation_loader)    #### Dice index of validation data"
      ],
      "execution_count": 36,
      "outputs": [
        {
          "output_type": "execute_result",
          "data": {
            "text/plain": [
              "0.9403458833694458"
            ]
          },
          "metadata": {
            "tags": []
          },
          "execution_count": 36
        }
      ]
    },
    {
      "cell_type": "code",
      "metadata": {
        "id": "WWdcqkUGJIff",
        "colab_type": "code",
        "outputId": "68a6ccca-9d5e-414e-e8aa-b33f037bba24",
        "colab": {
          "base_uri": "https://localhost:8080/",
          "height": 34
        }
      },
      "source": [
        "avg_dice_index(train_loader)        ### Dice index of training data"
      ],
      "execution_count": 37,
      "outputs": [
        {
          "output_type": "execute_result",
          "data": {
            "text/plain": [
              "0.9296655058860779"
            ]
          },
          "metadata": {
            "tags": []
          },
          "execution_count": 37
        }
      ]
    },
    {
      "cell_type": "code",
      "metadata": {
        "id": "OFwZ4hGJKX4x",
        "colab_type": "code",
        "colab": {}
      },
      "source": [
        "test_loader = DataLoader(dataset = test_data, batch_size = 1, shuffle = True) # to write image files"
      ],
      "execution_count": 0,
      "outputs": []
    },
    {
      "cell_type": "markdown",
      "metadata": {
        "id": "nzrqfqoZAhG7",
        "colab_type": "text"
      },
      "source": [
        "## **Warning!!!**\n",
        "### Your are about to write on drive"
      ]
    },
    {
      "cell_type": "code",
      "metadata": {
        "id": "F1xz1kGBlXIa",
        "colab_type": "code",
        "colab": {}
      },
      "source": [
        "transform = transforms.Compose([\n",
        "        transforms.ToPILImage(),\n",
        "        transforms.Resize((540, 800)),\n",
        "        transforms.ToTensor()\n",
        "        ])\n",
        "    \n",
        "with torch.no_grad():\n",
        "      #model.eval()\n",
        "      for ith_batch , sample in enumerate(test_loader):\n",
        "        X_test = sample['image'].to('cuda')\n",
        "        y_pred = (model(X_test) + 0.5).int().float().cpu()\n",
        "       # print(335-ith_batch)\n",
        "        \n",
        "        file_names = sample['f_name']\n",
        "        pankaj = transform(y_pred[0])\n",
        "        #singh = transform(y_pred[1])\n",
        "        torchvision.utils.save_image(pankaj , os.path.join('/content/segmented', file_names[0]))\n",
        "        #torchvision.utils.save_image(singh, os.path.join('/content/drive/My Drive/HC18/test_set', file_names[1].replace('.png','_Annotation.png')))\n",
        "      print(\"Segmentation files written\")\n",
        "        \n",
        "        "
      ],
      "execution_count": 0,
      "outputs": []
    },
    {
      "cell_type": "code",
      "metadata": {
        "id": "usmYEz6soI3H",
        "colab_type": "code",
        "colab": {}
      },
      "source": [
        "def fit_ellipse(im):    \n",
        "    imgray = cv2.cvtColor(im,cv2.COLOR_BGR2GRAY)\n",
        "    ret,thresh = cv2.threshold(imgray,127,255,0)\n",
        "    im2, contours, hierarchy = cv2.findContours(thresh,cv2.RETR_TREE,cv2.CHAIN_APPROX_SIMPLE)\n",
        "    contour_sizes = [len(contour) for contour in contours]\n",
        "    ellipse = cv2.fitEllipse(contours[np.argmax(contour_sizes)])\n",
        "    return ellipse"
      ],
      "execution_count": 0,
      "outputs": []
    },
    {
      "cell_type": "code",
      "metadata": {
        "id": "NFxyNwWR1sE9",
        "colab_type": "code",
        "colab": {}
      },
      "source": [
        "df_pixel_size = pd.read_csv('/content/HC18/test_set_pixel_size.csv')\n",
        "submission = {'filename': [], 'center_x_mm': [], 'center_y_mm': [], 'semi_axes_a_mm': [],\n",
        "             'semi_axes_b_mm': [], 'angle_rad': [], 'Index': []}\n",
        "\n",
        "file_names = sorted([file for _,_,files in os.walk('/content/segmented/') for file in files])\n",
        "\n",
        "for i, file_name in enumerate(file_names):\n",
        "    im = cv2.imread('/content/segmented/'+file_name)\n",
        "   # file_name = file_name.replace('_Segmented', '')\n",
        "    ellipse = fit_ellipse(im)\n",
        "    im_mask = cv2.ellipse(np.zeros_like(im),ellipse,(255,255,255),-1)\n",
        "    image_name = file_name.split('.')[0] + '_Annotation_fit.png'\n",
        "    #cv2.imwrite('/content/drive/My Drive/HC18/test_set/'+image_name, im_mask)\n",
        "    \n",
        "    pixel_size = df_pixel_size.loc[df_pixel_size['filename'] == file_name, 'pixel size(mm)'].iloc[0]\n",
        "    submission['filename'].extend([file_name])\n",
        "    submission['Index'].extend([int(file_name.split('_')[0])])\n",
        "    center_x,  center_y = ellipse[0]\n",
        "    submission['center_x_mm'].extend([pixel_size*center_x])\n",
        "    submission['center_y_mm'].extend([pixel_size*center_y])\n",
        "    semi_axes_b, semi_axes_a = ellipse[1]\n",
        "    if semi_axes_b > semi_axes_a:\n",
        "        semi_axes_b = semi_axes_b + semi_axes_a\n",
        "        semi_axes_a = semi_axes_b - semi_axes_a\n",
        "        semi_axes_b -= semi_axes_a\n",
        "    submission['semi_axes_a_mm'].extend([semi_axes_a*pixel_size/2])\n",
        "    submission['semi_axes_b_mm'].extend([semi_axes_b*pixel_size/2])\n",
        "    angle = ellipse[2]\n",
        "    if angle < 90:\n",
        "        angle += 90\n",
        "    else:\n",
        "        angle -= 90\n",
        "    submission['angle_rad'].extend([np.deg2rad(angle)])\n",
        "    \n",
        "submission = pd.DataFrame(submission)\n",
        "submission = submission[['filename', 'center_x_mm', 'center_y_mm', \n",
        "                         'semi_axes_a_mm', 'semi_axes_b_mm', 'angle_rad', 'Index']]    \n",
        "submission = submission.sort_values(['Index'])\n",
        "submission = submission.drop('Index', axis=1)\n",
        "submission.to_csv(\"seventh_submit_data_aug.csv\", index=False)\n",
        "print('Required .csv file generated')"
      ],
      "execution_count": 0,
      "outputs": []
    },
    {
      "cell_type": "code",
      "metadata": {
        "id": "24_UncsQ9SO8",
        "colab_type": "code",
        "colab": {}
      },
      "source": [
        "q = pd.read_csv('/content/seventh_submit_data_aug.csv')  ## to check theck the generated csv"
      ],
      "execution_count": 0,
      "outputs": []
    },
    {
      "cell_type": "code",
      "metadata": {
        "id": "yDETDtOb9bVx",
        "colab_type": "code",
        "colab": {}
      },
      "source": [
        "print('Length of csv file: 'len(q))"
      ],
      "execution_count": 0,
      "outputs": []
    },
    {
      "cell_type": "code",
      "metadata": {
        "id": "Si2wPk1P9hPO",
        "colab_type": "code",
        "colab": {}
      },
      "source": [
        ""
      ],
      "execution_count": 0,
      "outputs": []
    }
  ]
}